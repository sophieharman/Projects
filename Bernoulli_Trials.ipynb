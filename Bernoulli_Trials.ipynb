{
  "nbformat": 4,
  "nbformat_minor": 0,
  "metadata": {
    "colab": {
      "provenance": [],
      "authorship_tag": "ABX9TyPPza/Sn4x7RhY2R9GW6hLX",
      "include_colab_link": true
    },
    "kernelspec": {
      "name": "python3",
      "display_name": "Python 3"
    },
    "language_info": {
      "name": "python"
    }
  },
  "cells": [
    {
      "cell_type": "markdown",
      "metadata": {
        "id": "view-in-github",
        "colab_type": "text"
      },
      "source": [
        "<a href=\"https://colab.research.google.com/github/sophieharman/Projects/blob/main/Bernoulli_Trials.ipynb\" target=\"_parent\"><img src=\"https://colab.research.google.com/assets/colab-badge.svg\" alt=\"Open In Colab\"/></a>"
      ]
    },
    {
      "cell_type": "code",
      "source": [
        "import random\n",
        "import numpy as np\n",
        "\n",
        "#Compute the Bernoulli Distribution\n",
        "def bernoulli(p):\n",
        "    n = 0\n",
        "    rand_vars = []\n",
        "    while n <= 1000:\n",
        "        x = random.randint(0, 1)\n",
        "        rand_vars.append(x)\n",
        "        n += 1\n",
        "    return 1/(1000) * (sum(rand_vars)), rand_vars\n",
        "\n",
        "\n",
        "def conduct_bernoulli_trials(p):\n",
        "    i = 0\n",
        "    triali_results = []\n",
        "    rand_vars = []\n",
        "\n",
        "    #Conduct 100 Trials\n",
        "    while i <= 100:\n",
        "        mu, X = bernoulli(p)\n",
        "        triali_results.append(mu)\n",
        "        rand_vars.append(X)\n",
        "        i += 1\n",
        "\n",
        "    n = 1000\n",
        "    upper_bound = []\n",
        "    for e in [0.1, 0.01, 0.001]:\n",
        "        ineq_satisfied = 0\n",
        "        total_iterations = 0\n",
        "\n",
        "        # Find the Upper Bound\n",
        "        mu = np.mean(triali_results)\n",
        "        sigma_sq = (1/n) * sum((X_i - mu) ** 2 for X_i in triali_results)\n",
        "        upper_bound.append(sigma_sq / (n * e))\n",
        "\n",
        "        # Calculate Proportion\n",
        "        for result in triali_results:\n",
        "            if np.abs(result - mu) >= e:\n",
        "                ineq_satisfied += 1\n",
        "        total_iterations += len(triali_results)\n",
        "\n",
        "        # Compare Results to Law of Large Numbers Bound\n",
        "        print(f'e: {e}')\n",
        "        print(f'Results: {ineq_satisfied/total_iterations}')\n",
        "        print(f'LLN UB: {sigma_sq / (n * e)}')\n",
        "        print('')\n",
        "\n",
        "    return 'Analysis Complete'\n",
        "\n",
        "if __name__ == '__main__':\n",
        "    conduct_bernoulli_trials(0.5)\n",
        "\n",
        "# e: 0.1\n",
        "# Results: 0.0\n",
        "# LLN UB: 2.557564356435646e-07\n",
        "\n",
        "# e: 0.01\n",
        "# Results: 0.5544554455445545\n",
        "# LLN UB: 2.557564356435646e-06\n",
        "\n",
        "# e: 0.001\n",
        "# Results: 0.9504950495049505\n",
        "# LLN UB: 2.557564356435646e-05\n"
      ],
      "metadata": {
        "id": "PNGir2OpPiOH",
        "colab": {
          "base_uri": "https://localhost:8080/"
        },
        "outputId": "f268b489-f62c-480c-fad4-4ab0cef8f9c2"
      },
      "execution_count": null,
      "outputs": [
        {
          "output_type": "stream",
          "name": "stdout",
          "text": [
            "e: 0.1\n",
            "Results: 0.0\n",
            "LLN UB: 2.557564356435646e-07\n",
            "\n",
            "e: 0.01\n",
            "Results: 0.5544554455445545\n",
            "LLN UB: 2.557564356435646e-06\n",
            "\n",
            "e: 0.001\n",
            "Results: 0.9504950495049505\n",
            "LLN UB: 2.557564356435646e-05\n",
            "\n"
          ]
        }
      ]
    }
  ]
}