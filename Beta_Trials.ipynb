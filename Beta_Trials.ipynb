{
  "nbformat": 4,
  "nbformat_minor": 0,
  "metadata": {
    "colab": {
      "provenance": [],
      "authorship_tag": "ABX9TyNQMAKvfmIBg7vD2SFh9ecI",
      "include_colab_link": true
    },
    "kernelspec": {
      "name": "python3",
      "display_name": "Python 3"
    },
    "language_info": {
      "name": "python"
    }
  },
  "cells": [
    {
      "cell_type": "markdown",
      "metadata": {
        "id": "view-in-github",
        "colab_type": "text"
      },
      "source": [
        "<a href=\"https://colab.research.google.com/github/sophieharman/Projects/blob/main/Beta_Trials.ipynb\" target=\"_parent\"><img src=\"https://colab.research.google.com/assets/colab-badge.svg\" alt=\"Open In Colab\"/></a>"
      ]
    },
    {
      "cell_type": "code",
      "source": [
        "import numpy as np\n",
        "\n",
        "def beta_distribution(a, b, size):\n",
        "    return np.random.beta(a, b, size)\n",
        "\n",
        "def conduct_beta_trials(a, b, num_trials=100, sample_size=1000):\n",
        "    trial_results = []\n",
        "    #Conduct 100 Trials\n",
        "    for i in range(num_trials):\n",
        "        samples = beta_distribution(a, b, sample_size)\n",
        "        trial_results.append(np.mean(samples))\n",
        "    return trial_results\n",
        "\n",
        "def main():\n",
        "    num_trials = 100\n",
        "    sample_size = 1000\n",
        "\n",
        "    beta_trial_results = conduct_beta_trials(1, 9, num_trials, sample_size)\n",
        "\n",
        "    #Iterate through Epsilon Values\n",
        "    n = sample_size\n",
        "    upper_bound = []\n",
        "    for e in [0.1, 0.01, 0.001]:\n",
        "        ineq_satisfied = 0\n",
        "        total_iterations = 0\n",
        "\n",
        "        # Find the Upper Bound\n",
        "        mu = np.mean(beta_trial_results)\n",
        "        sigma_sq = np.var(beta_trial_results, ddof=1)\n",
        "        upper_bound.append(sigma_sq / (n * e))\n",
        "\n",
        "        # Calculate Proportion\n",
        "        for result in beta_trial_results:\n",
        "            if np.abs(result - mu) >= e:\n",
        "                ineq_satisfied += 1\n",
        "            total_iterations += 1\n",
        "\n",
        "        # Compare Results to Law of Large Numbers Bound\n",
        "        print(f'e: {e}')\n",
        "        print(f'Results: {ineq_satisfied/total_iterations}')\n",
        "        print(f'LLN UB: {sigma_sq / (n * e)}')\n",
        "        print('')\n",
        "\n",
        "\n",
        "if __name__ == '__main__':\n",
        "    main()\n",
        "\n",
        "# e: 0.1\n",
        "# Results: 0.0\n",
        "# LLN UB: 9.161221501881228e-08\n",
        "\n",
        "# e: 0.01\n",
        "# Results: 0.0\n",
        "# LLN UB: 9.161221501881228e-07\n",
        "\n",
        "# e: 0.001\n",
        "# Results: 0.73\n",
        "# LLN UB: 9.161221501881228e-06\n"
      ],
      "metadata": {
        "colab": {
          "base_uri": "https://localhost:8080/"
        },
        "id": "mAsHF3cXQIK0",
        "outputId": "3cc2f704-2f9d-451c-87be-998f009f462a"
      },
      "execution_count": 5,
      "outputs": [
        {
          "output_type": "stream",
          "name": "stdout",
          "text": [
            "e: 0.1\n",
            "Results: 0.0\n",
            "LLN UB: 9.161221501881228e-08\n",
            "\n",
            "e: 0.01\n",
            "Results: 0.0\n",
            "LLN UB: 9.161221501881228e-07\n",
            "\n",
            "e: 0.001\n",
            "Results: 0.73\n",
            "LLN UB: 9.161221501881228e-06\n",
            "\n"
          ]
        }
      ]
    }
  ]
}