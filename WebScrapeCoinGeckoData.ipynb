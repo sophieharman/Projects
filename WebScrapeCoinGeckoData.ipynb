{
 "cells": [
  {
   "cell_type": "code",
   "execution_count": 67,
   "metadata": {},
   "outputs": [],
   "source": [
    "import os\n",
    "import csv\n",
    "import time\n",
    "import requests\n",
    "import pandas as pd\n",
    "from datetime import datetime"
   ]
  },
  {
   "cell_type": "markdown",
   "metadata": {},
   "source": [
    "Personal Information"
   ]
  },
  {
   "cell_type": "code",
   "execution_count": 68,
   "metadata": {},
   "outputs": [],
   "source": [
    "# API key\n",
    "api_key = \"YOUR_API_KEY\"\n",
    "\n",
    "# File path for the CSV file\n",
    "file_path = os.path.join(os.path.expanduser(\"~\"), \"CryptoData.csv\")"
   ]
  },
  {
   "cell_type": "markdown",
   "metadata": {},
   "source": [
    "Coins of Interest"
   ]
  },
  {
   "cell_type": "code",
   "execution_count": 69,
   "metadata": {},
   "outputs": [],
   "source": [
    "# List of coins to scrape\n",
    "coins = [\"bitcoin\", \"ethereum\", \"solana\", \"binancecoin\"]"
   ]
  },
  {
   "cell_type": "markdown",
   "metadata": {},
   "source": [
    "Scrape Coin Data"
   ]
  },
  {
   "cell_type": "code",
   "execution_count": 70,
   "metadata": {},
   "outputs": [],
   "source": [
    "# Function to fetch data for a specific cryptocurrency\n",
    "def get_coin_data(coin, api_key):\n",
    "    headers = {\n",
    "        \"x-cg-demo-api-key\": api_key,\n",
    "        'User-Agent': 'Mozilla/5.0 (Windows NT 10.0; Win64; x64) AppleWebKit/537.36 (KHTML, like Gecko) Chrome/126.0.0.0 Safari/537.36'\n",
    "    }\n",
    "    \n",
    "    # Retry up to 3 times if request fails\n",
    "    for _ in range(3):\n",
    "        response = requests.get(f\"https://api.coingecko.com/api/v3/coins/{coin}\", headers=headers)\n",
    "        \n",
    "        if response.status_code == 200:\n",
    "            data = response.json()\n",
    "            \n",
    "            # Extract required data\n",
    "            coin_info = {\n",
    "                \"Name\": data.get(\"name\", \"N/A\"),\n",
    "                \"CurrentPrice\": data.get(\"market_data\", {}).get(\"current_price\", {}).get(\"usd\", \"N/A\"),\n",
    "                \"1hPercentageChange\": data.get(\"market_data\", {}).get(\"price_change_percentage_1h_in_currency\", {}).get(\"usd\", \"N/A\"),\n",
    "                \"24hPercentageChange\": data.get(\"market_data\", {}).get(\"price_change_percentage_24h_in_currency\", {}).get(\"usd\", \"N/A\"),\n",
    "                \"7dPercentageChange\": data.get(\"market_data\", {}).get(\"price_change_percentage_7d_in_currency\", {}).get(\"usd\", \"N/A\"),\n",
    "                \"24hVolume\": data.get(\"market_data\", {}).get(\"total_volume\", {}).get(\"usd\", \"N/A\"),\n",
    "                \"MarketCap\": data.get(\"market_data\", {}).get(\"market_cap\", {}).get(\"usd\", \"N/A\"),\n",
    "                \"Date\": datetime.now().strftime(\"%d-%m-%Y %H:%M\")\n",
    "            }\n",
    "            \n",
    "            return coin_info\n",
    "        \n",
    "        else:\n",
    "            print(f\"Failed to retrieve data for {coin}: HTTP {response.status_code}\")\n",
    "            time.sleep(5)  # Wait 5 seconds before retrying\n",
    "    \n",
    "    print(f\"Failed to retrieve data for {coin} after multiple attempts\")\n",
    "    return None\n",
    "\n",
    "def get_crypto_data(api_key, coins):\n",
    "    \"\"\"\n",
    "    Fetches data for a list of cryptocurrencies and prints their retrieval status.\n",
    "\n",
    "    Parameters:\n",
    "    api_key (str): The API key for accessing the CoinGecko API.\n",
    "    coins (list): A list of cryptocurrency identifiers to fetch data for.\n",
    "\n",
    "    Returns:\n",
    "    list: A list of dictionaries, each containing data for a specific cryptocurrency.\n",
    "    \"\"\"\n",
    "    coin_data = []\n",
    "\n",
    "    for coin in coins:\n",
    "        # Fetch data for each coin and append to the list\n",
    "        data = get_coin_data(coin, api_key)\n",
    "        coin_data.append(data)\n",
    "\n",
    "    return coin_data"
   ]
  },
  {
   "cell_type": "markdown",
   "metadata": {},
   "source": [
    "Record Data in csv File"
   ]
  },
  {
   "cell_type": "code",
   "execution_count": 71,
   "metadata": {},
   "outputs": [],
   "source": [
    "def write_csv(coin_data, file_path):\n",
    "    \"\"\"\n",
    "    Writes the cryptocurrency data to a CSV file.\n",
    "\n",
    "    Parameters:\n",
    "    coin_data (list): A list of dictionaries containing the cryptocurrency data.\n",
    "    file_path (str): The path to the CSV file.\n",
    "    \"\"\"\n",
    "    fieldnames = [\"Name\", \"CurrentPrice\", \"1hPercentageChange\", \"24hPercentageChange\", \"7dPercentageChange\", \"24hVolume\", \"MarketCap\", \"Date\"]\n",
    "\n",
    "    # Check if the file exists\n",
    "    file_exists = os.path.isfile(file_path)\n",
    "\n",
    "    # Write the data to the CSV file\n",
    "    with open(file_path, 'a', newline='') as file:\n",
    "        writer = csv.DictWriter(file, fieldnames=fieldnames)\n",
    "\n",
    "        # Write the header only if the file does not exist\n",
    "        if not file_exists:\n",
    "            writer.writeheader()\n",
    "\n",
    "        for data in coin_data:\n",
    "            writer.writerow(data)"
   ]
  },
  {
   "cell_type": "markdown",
   "metadata": {},
   "source": [
    "Data Fetch and Store Loop"
   ]
  },
  {
   "cell_type": "code",
   "execution_count": 72,
   "metadata": {},
   "outputs": [
    {
     "name": "stdout",
     "output_type": "stream",
     "text": [
      "Failed to retrieve data for solana: HTTP 401\n",
      "Failed to retrieve data for binancecoin: HTTP 401\n"
     ]
    }
   ],
   "source": [
    "# Ensure the directory exists\n",
    "directory = os.path.dirname(file_path)\n",
    "if not os.path.exists(directory):\n",
    "    os.makedirs(directory)\n",
    "\n",
    "# Main loop to get data every 262.8 seconds and append to CSV\n",
    "while True:\n",
    "    coin_data_list = get_crypto_data(api_key, coins)\n",
    "\n",
    "    write_csv(coin_data_list, file_path)\n",
    "\n",
    "    # Wait for 262.8 seconds before fetching the data again to avoid exceeding account usage limits\n",
    "    time.sleep(262.8)"
   ]
  }
 ],
 "metadata": {
  "kernelspec": {
   "display_name": "Python 3",
   "language": "python",
   "name": "python3"
  },
  "language_info": {
   "codemirror_mode": {
    "name": "ipython",
    "version": 3
   },
   "file_extension": ".py",
   "mimetype": "text/x-python",
   "name": "python",
   "nbconvert_exporter": "python",
   "pygments_lexer": "ipython3",
   "version": "3.11.5"
  }
 },
 "nbformat": 4,
 "nbformat_minor": 2
}
